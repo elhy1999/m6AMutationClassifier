{
 "cells": [
  {
   "cell_type": "code",
   "execution_count": 1,
   "id": "1b1cab0e",
   "metadata": {},
   "outputs": [],
   "source": [
    "import os\n",
    "import sys\n",
    "sys.path.append(\"../../src\")\n",
    "\n",
    "import pandas as pd\n",
    "import numpy as np\n",
    "import matplotlib.pyplot as plt\n",
    "from sklearn.ensemble import RandomForestRegressor\n",
    "import joblib\n",
    "from util import *"
   ]
  },
  {
   "cell_type": "code",
   "execution_count": 2,
   "id": "df1a94d4",
   "metadata": {},
   "outputs": [],
   "source": [
    "BAG_META_PATH = \"./../../data/raw/bag_meta.csv\"\n",
    "BAG_DATA_PATH = \"./../../data/curated/bag_data.csv\"\n",
    "CROSS_VALID_MODELS_PATH = \"./../../model/cross-validation/\"\n",
    "\n",
    "bag_meta = pd.read_csv(BAG_META_PATH).iloc[:, 1:]\n",
    "bag_data = pd.read_csv(BAG_DATA_PATH).iloc[:, 1:]"
   ]
  },
  {
   "cell_type": "code",
   "execution_count": 3,
   "id": "2d20456f",
   "metadata": {},
   "outputs": [],
   "source": [
    "N_PARTITIONS = 5\n",
    "N_TREES = 1000"
   ]
  },
  {
   "cell_type": "markdown",
   "id": "b6fe4c36",
   "metadata": {},
   "source": [
    "# Determining how to split dataset0 into 5 folds for Cross Validation\n",
    "Note: The split has to occur on a **gene level** so that we can estimate how the model will perform when it encounters data from unseen genes. We try to create folds that have similar number of bags"
   ]
  },
  {
   "cell_type": "code",
   "execution_count": 4,
   "id": "4fe96eb7",
   "metadata": {},
   "outputs": [
    {
     "data": {
      "text/html": [
       "<div>\n",
       "<style scoped>\n",
       "    .dataframe tbody tr th:only-of-type {\n",
       "        vertical-align: middle;\n",
       "    }\n",
       "\n",
       "    .dataframe tbody tr th {\n",
       "        vertical-align: top;\n",
       "    }\n",
       "\n",
       "    .dataframe thead th {\n",
       "        text-align: right;\n",
       "    }\n",
       "</style>\n",
       "<table border=\"1\" class=\"dataframe\">\n",
       "  <thead>\n",
       "    <tr style=\"text-align: right;\">\n",
       "      <th></th>\n",
       "      <th>gene_id</th>\n",
       "      <th>n_bags</th>\n",
       "    </tr>\n",
       "  </thead>\n",
       "  <tbody>\n",
       "    <tr>\n",
       "      <th>0</th>\n",
       "      <td>ENSG00000128050</td>\n",
       "      <td>274</td>\n",
       "    </tr>\n",
       "    <tr>\n",
       "      <th>1</th>\n",
       "      <td>ENSG00000110321</td>\n",
       "      <td>253</td>\n",
       "    </tr>\n",
       "    <tr>\n",
       "      <th>2</th>\n",
       "      <td>ENSG00000164924</td>\n",
       "      <td>250</td>\n",
       "    </tr>\n",
       "    <tr>\n",
       "      <th>3</th>\n",
       "      <td>ENSG00000141367</td>\n",
       "      <td>230</td>\n",
       "    </tr>\n",
       "    <tr>\n",
       "      <th>4</th>\n",
       "      <td>ENSG00000138434</td>\n",
       "      <td>229</td>\n",
       "    </tr>\n",
       "    <tr>\n",
       "      <th>...</th>\n",
       "      <td>...</td>\n",
       "      <td>...</td>\n",
       "    </tr>\n",
       "    <tr>\n",
       "      <th>3847</th>\n",
       "      <td>ENSG00000106462</td>\n",
       "      <td>1</td>\n",
       "    </tr>\n",
       "    <tr>\n",
       "      <th>3848</th>\n",
       "      <td>ENSG00000106605</td>\n",
       "      <td>1</td>\n",
       "    </tr>\n",
       "    <tr>\n",
       "      <th>3849</th>\n",
       "      <td>ENSG00000107719</td>\n",
       "      <td>1</td>\n",
       "    </tr>\n",
       "    <tr>\n",
       "      <th>3850</th>\n",
       "      <td>ENSG00000168273</td>\n",
       "      <td>1</td>\n",
       "    </tr>\n",
       "    <tr>\n",
       "      <th>3851</th>\n",
       "      <td>ENSG00000124532</td>\n",
       "      <td>1</td>\n",
       "    </tr>\n",
       "  </tbody>\n",
       "</table>\n",
       "<p>3852 rows × 2 columns</p>\n",
       "</div>"
      ],
      "text/plain": [
       "              gene_id  n_bags\n",
       "0     ENSG00000128050     274\n",
       "1     ENSG00000110321     253\n",
       "2     ENSG00000164924     250\n",
       "3     ENSG00000141367     230\n",
       "4     ENSG00000138434     229\n",
       "...               ...     ...\n",
       "3847  ENSG00000106462       1\n",
       "3848  ENSG00000106605       1\n",
       "3849  ENSG00000107719       1\n",
       "3850  ENSG00000168273       1\n",
       "3851  ENSG00000124532       1\n",
       "\n",
       "[3852 rows x 2 columns]"
      ]
     },
     "metadata": {},
     "output_type": "display_data"
    },
    {
     "data": {
      "image/png": "[encoded data removed]",
      "text/plain": [
       "<Figure size 640x480 with 1 Axes>"
      ]
     },
     "metadata": {},
     "output_type": "display_data"
    }
   ],
   "source": [
    "# Generating the number of reads for each gene\n",
    "gene_count = bag_meta.gene_id.value_counts().reset_index().rename(columns = {\"index\" : \"gene_id\", \"gene_id\" : \"n_bags\"})\n",
    "display(gene_count)\n",
    "\n",
    "plt.hist(gene_count.n_bags.to_list(), bins = 100)\n",
    "plt.ylabel(\"Number of bags per gene\")\n",
    "plt.xlabel(\"Gene\")\n",
    "plt.xticks([])\n",
    "plt.show()"
   ]
  },
  {
   "cell_type": "code",
   "execution_count": 5,
   "id": "e2348f86",
   "metadata": {},
   "outputs": [],
   "source": [
    "def generate_k_folds(input_list, k = 5):\n",
    "    sorted_list = sorted(input_list, reverse=True, key = lambda entry: entry[1])\n",
    "    partition_indices = [[] for _ in range(k)]\n",
    "    partitions = [[] for _ in range(k)]\n",
    "    sums = [0] * k\n",
    "\n",
    "    for entry in sorted_list:\n",
    "        gene, num = entry\n",
    "        min_sum_index = sums.index(min(sums))\n",
    "        partitions[min_sum_index].append(num)\n",
    "        partition_indices[min_sum_index].append(gene)\n",
    "        sums[min_sum_index] += num\n",
    "\n",
    "    return partitions, partition_indices\n",
    "\n",
    "def flatten_2d(matrix):\n",
    "    return [item for sublist in matrix for item in sublist]"
   ]
  },
  {
   "cell_type": "code",
   "execution_count": 6,
   "id": "ebb9f89c",
   "metadata": {},
   "outputs": [
    {
     "name": "stdout",
     "output_type": "stream",
     "text": [
      "Partition completed\n",
      "Partition 1 read count: 24368 bags\n",
      "Partition 2 read count: 24368 bags\n",
      "Partition 3 read count: 24368 bags\n",
      "Partition 4 read count: 24367 bags\n",
      "Partition 5 read count: 24367 bags\n"
     ]
    }
   ],
   "source": [
    "partitioned_n_bags, partitioned_genes = generate_k_folds(gene_count.values)\n",
    "\n",
    "# Check if the partition has been done correctly (i.e. Every gene is in exactly one partition)\n",
    "if sorted(flatten_2d(partitioned_n_bags)) == sorted(gene_count.n_bags):\n",
    "    print(\"Partition completed\")\n",
    "else:\n",
    "    print(\"Partition error\")\n",
    "\n",
    "for i, gene_list in enumerate(partitioned_genes):\n",
    "    print(f'Partition {i + 1} read count: {gene_count.loc[gene_count.gene_id.isin(gene_list), \"n_bags\"].sum()} bags')"
   ]
  },
  {
   "cell_type": "code",
   "execution_count": 7,
   "id": "294fb196",
   "metadata": {},
   "outputs": [],
   "source": [
    "def merge_partitions(partitioned_genes):\n",
    "    \"\"\"Returns the bag data of the bags whose gene is in partitioned_genes, and the number of reads in the merged partition\"\"\"\n",
    "    partitioned_genes_flattened = flatten_2d(partitioned_genes)\n",
    "    valid_bag_ids = bag_meta.loc[bag_meta.gene_id.isin(partitioned_genes_flattened), \"bag_id\"].tolist()\n",
    "    return bag_data.loc[bag_data.bag_id.isin(valid_bag_ids), :]\n",
    "\n",
    "def get_merged_dataset(test_fold_id):\n",
    "    if test_fold_id < 0 or test_fold_id >= N_PARTITIONS:\n",
    "        raise Exception(f\"Value for test_fold_id has to be between 0 and {N_PARTITIONS - 1} (inclusive). Received: {test_fold_id}\")\n",
    "    train_data = merge_partitions(partitioned_genes[:test_fold_id] + partitioned_genes[(test_fold_id + 1) : ]).reset_index(drop=True)\n",
    "    test_data = merge_partitions([partitioned_genes[test_fold_id]]).reset_index(drop = True)\n",
    "    return train_data, test_data"
   ]
  },
  {
   "cell_type": "markdown",
   "id": "4b953d1a",
   "metadata": {},
   "source": [
    "# Training RF Model"
   ]
  },
  {
   "cell_type": "code",
   "execution_count": 8,
   "id": "f7a13732",
   "metadata": {},
   "outputs": [],
   "source": [
    "## Generate the cross-validation models (Note: This will take hours to run)\n",
    "\n",
    "# for i in range(N_PARTITIONS):\n",
    "#     train_data, test_data = get_merged_dataset(i)\n",
    "#     rf = RandomForestRegressor(n_estimators = N_TREES, random_state = 0, verbose=2, n_jobs = 8)\n",
    "#     rf.fit(train_data.iloc[:,2:], train_data.iloc[:,1])\n",
    "#     joblib.dump(rf, f\"{CROSS_VALID_MODELS_PATH}/model{i}\")"
   ]
  },
  {
   "cell_type": "code",
   "execution_count": 9,
   "id": "5abf8459",
   "metadata": {},
   "outputs": [
    {
     "name": "stderr",
     "output_type": "stream",
     "text": [
      "[Parallel(n_jobs=8)]: Using backend ThreadingBackend with 8 concurrent workers.\n",
      "[Parallel(n_jobs=8)]: Done  25 tasks      | elapsed:    0.0s\n",
      "[Parallel(n_jobs=8)]: Done 146 tasks      | elapsed:    0.1s\n",
      "[Parallel(n_jobs=8)]: Done 349 tasks      | elapsed:    0.3s\n",
      "[Parallel(n_jobs=8)]: Done 632 tasks      | elapsed:    0.6s\n",
      "[Parallel(n_jobs=8)]: Done 1000 out of 1000 | elapsed:    1.1s finished\n"
     ]
    },
    {
     "name": "stdout",
     "output_type": "stream",
     "text": [
      "AUCOC: 0.9804955259774955\n"
     ]
    },
    {
     "name": "stderr",
     "output_type": "stream",
     "text": [
      "[Parallel(n_jobs=8)]: Using backend ThreadingBackend with 8 concurrent workers.\n",
      "[Parallel(n_jobs=8)]: Done  25 tasks      | elapsed:    0.0s\n",
      "[Parallel(n_jobs=8)]: Done 146 tasks      | elapsed:    0.0s\n",
      "[Parallel(n_jobs=8)]: Done 349 tasks      | elapsed:    0.2s\n",
      "[Parallel(n_jobs=8)]: Done 632 tasks      | elapsed:    0.6s\n",
      "[Parallel(n_jobs=8)]: Done 1000 out of 1000 | elapsed:    1.0s finished\n"
     ]
    },
    {
     "name": "stdout",
     "output_type": "stream",
     "text": [
      "AUCOC: 0.9830708271870904\n"
     ]
    },
    {
     "name": "stderr",
     "output_type": "stream",
     "text": [
      "[Parallel(n_jobs=8)]: Using backend ThreadingBackend with 8 concurrent workers.\n",
      "[Parallel(n_jobs=8)]: Done  25 tasks      | elapsed:    0.0s\n",
      "[Parallel(n_jobs=8)]: Done 146 tasks      | elapsed:    0.1s\n",
      "[Parallel(n_jobs=8)]: Done 349 tasks      | elapsed:    0.3s\n",
      "[Parallel(n_jobs=8)]: Done 632 tasks      | elapsed:    0.6s\n",
      "[Parallel(n_jobs=8)]: Done 1000 out of 1000 | elapsed:    1.0s finished\n"
     ]
    },
    {
     "name": "stdout",
     "output_type": "stream",
     "text": [
      "AUCOC: 0.9740655927096313\n"
     ]
    },
    {
     "name": "stderr",
     "output_type": "stream",
     "text": [
      "[Parallel(n_jobs=8)]: Using backend ThreadingBackend with 8 concurrent workers.\n",
      "[Parallel(n_jobs=8)]: Done  25 tasks      | elapsed:    0.0s\n",
      "[Parallel(n_jobs=8)]: Done 146 tasks      | elapsed:    0.1s\n",
      "[Parallel(n_jobs=8)]: Done 349 tasks      | elapsed:    0.4s\n",
      "[Parallel(n_jobs=8)]: Done 632 tasks      | elapsed:    0.8s\n",
      "[Parallel(n_jobs=8)]: Done 1000 out of 1000 | elapsed:    1.3s finished\n"
     ]
    },
    {
     "name": "stdout",
     "output_type": "stream",
     "text": [
      "AUCOC: 0.9855716361545337\n"
     ]
    },
    {
     "name": "stderr",
     "output_type": "stream",
     "text": [
      "[Parallel(n_jobs=8)]: Using backend ThreadingBackend with 8 concurrent workers.\n",
      "[Parallel(n_jobs=8)]: Done  25 tasks      | elapsed:    0.0s\n",
      "[Parallel(n_jobs=8)]: Done 146 tasks      | elapsed:    0.1s\n",
      "[Parallel(n_jobs=8)]: Done 349 tasks      | elapsed:    0.3s\n",
      "[Parallel(n_jobs=8)]: Done 632 tasks      | elapsed:    0.7s\n",
      "[Parallel(n_jobs=8)]: Done 1000 out of 1000 | elapsed:    1.2s finished\n"
     ]
    },
    {
     "name": "stdout",
     "output_type": "stream",
     "text": [
      "AUCOC: 0.9752660056823059\n",
      "Average AUROC: 0.97969\n"
     ]
    },
    {
     "data": {
      "image/png": "[encoded data removed]",
      "text/plain": [
       "<Figure size 640x480 with 1 Axes>"
      ]
     },
     "metadata": {},
     "output_type": "display_data"
    }
   ],
   "source": [
    "auroc_list = []\n",
    "for i in range(N_PARTITIONS):\n",
    "    train_data, test_data = get_merged_dataset(i)\n",
    "    model_name = f\"model{i}\"\n",
    "    rf = joblib.load(f\"{CROSS_VALID_MODELS_PATH}/model{i}\")\n",
    "    X = test_data.iloc[:, 2:]\n",
    "    y = test_data.iloc[:, 1]\n",
    "    tpr, fpr, auroc = generate_roc_curve(rf, X, y)\n",
    "    auroc_list.append(auroc)\n",
    "    plt.plot(fpr, tpr, label = f\"Fold {i}\", alpha = 0.7)\n",
    "    print(f\"AUCOC: {auroc}\")\n",
    "print(f\"Average AUROC: {round(np.mean(auroc_list), 5)}\")\n",
    "plt.title(f\"ROC Curve for {N_PARTITIONS}-fold Cross Validation\")\n",
    "plt.xlabel(\"False Positive Rate\")\n",
    "plt.ylabel(\"True Positive Rate\")\n",
    "plt.legend()\n",
    "plt.show()"
   ]
  },
  {
   "cell_type": "code",
   "execution_count": null,
   "id": "8885b5eb",
   "metadata": {},
   "outputs": [],
   "source": []
  },
  {
   "cell_type": "code",
   "execution_count": null,
   "id": "fe63110c",
   "metadata": {},
   "outputs": [],
   "source": []
  },
  {
   "cell_type": "code",
   "execution_count": null,
   "id": "3ee68da3",
   "metadata": {},
   "outputs": [],
   "source": []
  },
  {
   "cell_type": "code",
   "execution_count": null,
   "id": "4fb40391",
   "metadata": {},
   "outputs": [],
   "source": []
  },
  {
   "cell_type": "code",
   "execution_count": null,
   "id": "7539fccb",
   "metadata": {},
   "outputs": [],
   "source": []
  },
  {
   "cell_type": "code",
   "execution_count": null,
   "id": "4bf7e8e5",
   "metadata": {},
   "outputs": [],
   "source": []
  },
  {
   "cell_type": "code",
   "execution_count": null,
   "id": "89bd53fb",
   "metadata": {},
   "outputs": [],
   "source": []
  },
  {
   "cell_type": "code",
   "execution_count": null,
   "id": "85ef5fe2",
   "metadata": {},
   "outputs": [],
   "source": []
  },
  {
   "cell_type": "code",
   "execution_count": null,
   "id": "c6ebea8d",
   "metadata": {},
   "outputs": [],
   "source": []
  },
  {
   "cell_type": "code",
   "execution_count": null,
   "id": "e2ebefcf",
   "metadata": {},
   "outputs": [],
   "source": []
  }
 ],
 "metadata": {
  "kernelspec": {
   "display_name": "Python 3 (ipykernel)",
   "language": "python",
   "name": "python3"
  },
  "language_info": {
   "codemirror_mode": {
    "name": "ipython",
    "version": 3
   },
   "file_extension": ".py",
   "mimetype": "text/x-python",
   "name": "python",
   "nbconvert_exporter": "python",
   "pygments_lexer": "ipython3",
   "version": "3.10.1"
  }
 },
 "nbformat": 4,
 "nbformat_minor": 5
}
