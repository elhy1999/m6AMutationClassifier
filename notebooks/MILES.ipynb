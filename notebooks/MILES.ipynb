{
 "cells": [
  {
   "cell_type": "code",
   "execution_count": 1,
   "id": "b00fd6b3",
   "metadata": {},
   "outputs": [],
   "source": [
    "import pandas as pd\n",
    "import numpy as np\n",
    "import matplotlib.pyplot as plt\n",
    "from tqdm import tqdm\n",
    "\n",
    "pd.set_option('display.float_format', lambda x: '%.3f' % x)\n",
    "\n",
    "DATA_PATH = \"../data/curated/dataset_scaled.csv\"\n",
    "BAG_META_PATH = \"../data/raw/bag_meta.csv\""
   ]
  },
  {
   "cell_type": "code",
   "execution_count": 2,
   "id": "6e271ffa",
   "metadata": {},
   "outputs": [],
   "source": [
    "data = pd.read_csv(DATA_PATH).iloc[:, 1:] # exclude the first column as it is the index"
   ]
  },
  {
   "cell_type": "markdown",
   "id": "b55cb433",
   "metadata": {},
   "source": [
    "# Take 80% of positive labels, and an equal number of negative labels\n",
    "There are 499574 instances and 5475 bags with label 1\n",
    "\n",
    "Due to computational complexity, I downsampled 50000 instances each from positive and negative bags"
   ]
  },
  {
   "cell_type": "code",
   "execution_count": 3,
   "id": "90b21087",
   "metadata": {},
   "outputs": [
    {
     "name": "stdout",
     "output_type": "stream",
     "text": [
      "249787\n"
     ]
    }
   ],
   "source": [
    "N_POSITIVE = data.loc[data.label == 1].shape[0]\n",
    "N_POSITIVE_TRAIN = int(N_POSITIVE * 0.5)\n",
    "print(N_POSITIVE_TRAIN)"
   ]
  },
  {
   "cell_type": "code",
   "execution_count": 4,
   "id": "d638c6f2",
   "metadata": {},
   "outputs": [],
   "source": [
    "bag_data = pd.read_csv(BAG_META_PATH).iloc[:, 1:] # exclude the first column as it is the index"
   ]
  },
  {
   "cell_type": "code",
   "execution_count": 5,
   "id": "6d8c82be",
   "metadata": {},
   "outputs": [],
   "source": [
    "train_data = data.loc[data.bag_id.isin(list(bag_data.loc[bag_data.label == 1].bag_id)[:625])]\n",
    "train_data = pd.concat([train_data, data.loc[data.bag_id.isin(list(bag_data.loc[bag_data.label == 0].bag_id)[:660])]], axis = 0)\n",
    "train_data = train_data.sort_values(by=\"bag_id\")\n",
    "train_data = train_data.reset_index(drop=True)"
   ]
  },
  {
   "cell_type": "code",
   "execution_count": 6,
   "id": "21843ddc",
   "metadata": {},
   "outputs": [],
   "source": [
    "def euclidean(p1, p2):\n",
    "    \"\"\"Takes in two numpy vectors p1 and p2, and returns the euclidean distance between them\"\"\"\n",
    "    return np.linalg.norm(p1 - p2)"
   ]
  },
  {
   "cell_type": "code",
   "execution_count": 7,
   "id": "e0f4f136",
   "metadata": {},
   "outputs": [],
   "source": [
    "def bag_instance_dist(b_ind, i_ind):\n",
    "    bag = train_data.loc[train_data.bag_id == b_ind]\n",
    "    label = bag.iloc[0, 1] #Y\n",
    "    features = bag.iloc[:,2:].values #X\n",
    "    instance = train_data.iloc[i_ind, 2:].values\n",
    "    distances = np.linalg.norm(features - instance, axis=1)\n",
    "    return np.min(distances)"
   ]
  },
  {
   "cell_type": "code",
   "execution_count": 8,
   "id": "3e431fe2",
   "metadata": {},
   "outputs": [],
   "source": [
    "N_BAGS = len(train_data.bag_id.unique())\n",
    "N_INSTANCES = train_data.shape[0]\n",
    "distances = np.ones((N_BAGS, N_INSTANCES)) * 3 # With 9 normalized features, the maximum (Euclidean) distance between two points is 3"
   ]
  },
  {
   "cell_type": "code",
   "execution_count": 9,
   "id": "aa64b185",
   "metadata": {},
   "outputs": [],
   "source": [
    "# for b, b_ind in (enumerate(list(train_data.bag_id.unique()))):\n",
    "#     print(\"Starting iteration\", b+1, \"out of\", len(train_data.bag_id.unique()))\n",
    "#     for i_ind in trange(train_data.shape[0]):\n",
    "#         distance = bag_instance_dist(b_ind, i_ind)\n",
    "#         distances[b, i_ind] = distance"
   ]
  },
  {
   "cell_type": "code",
   "execution_count": 10,
   "id": "24442301",
   "metadata": {},
   "outputs": [],
   "source": [
    "features = train_data.iloc[:,2:].values.astype(np.float32)"
   ]
  },
  {
   "cell_type": "code",
   "execution_count": null,
   "id": "75b9edfd",
   "metadata": {},
   "outputs": [],
   "source": [
    "# distances = {}\n",
    "# for i in trange(len(features)):\n",
    "#     for j in range(i, len(features)):\n",
    "#         distances[(i, j)] = np.linalg.norm(features[i] - features[j])"
   ]
  },
  {
   "cell_type": "code",
   "execution_count": null,
   "id": "daf0d9ea",
   "metadata": {},
   "outputs": [],
   "source": [
    "# features[:25000]"
   ]
  },
  {
   "cell_type": "code",
   "execution_count": null,
   "id": "caffb382",
   "metadata": {},
   "outputs": [],
   "source": [
    "# np.linalg.norm(_[:, np.newaxis, :] - _[np.newaxis, :, :], axis = 2)"
   ]
  },
  {
   "cell_type": "code",
   "execution_count": null,
   "id": "4f02a444",
   "metadata": {},
   "outputs": [],
   "source": [
    "100196//25000"
   ]
  },
  {
   "cell_type": "code",
   "execution_count": null,
   "id": "adebac1b",
   "metadata": {},
   "outputs": [],
   "source": [
    "np.savetxt('250000_250000.txt', _, fmt='%d')"
   ]
  },
  {
   "cell_type": "code",
   "execution_count": null,
   "id": "bf1aeecb",
   "metadata": {},
   "outputs": [],
   "source": [
    "temp = np.linalg.norm(features[25000:50000][:, np.newaxis, :] - features[25000:50000][np.newaxis, :, :], axis = 2)\n",
    "np.savetxt('25000-50000_25000-50000.txt',\n",
    "           temp,\n",
    "           fmt = '%d'\n",
    "          )\n",
    "del temp"
   ]
  },
  {
   "cell_type": "code",
   "execution_count": null,
   "id": "3259a830",
   "metadata": {},
   "outputs": [],
   "source": [
    "temp = np.linalg.norm(features[50000:75000][:, np.newaxis, :] - features[50000:75000][np.newaxis, :, :], axis = 2)\n",
    "np.savetxt('50000-75000_50000-75000.txt',\n",
    "           temp,\n",
    "           fmt = '%d'\n",
    "          )\n",
    "del temp"
   ]
  },
  {
   "cell_type": "code",
   "execution_count": null,
   "id": "6eea4d1e",
   "metadata": {},
   "outputs": [],
   "source": [
    "temp = np.linalg.norm(features[75000:100000][:, np.newaxis, :] - features[75000:100000][np.newaxis, :, :], axis = 2)\n",
    "np.savetxt('75000-_75000-.txt',\n",
    "           temp,\n",
    "           fmt = '%d'\n",
    "          )\n",
    "del temp"
   ]
  },
  {
   "cell_type": "code",
   "execution_count": null,
   "id": "f2e18927",
   "metadata": {},
   "outputs": [],
   "source": [
    "np.savetxt('500000_250000.txt',\n",
    "           np.linalg.norm(features[25000:][:, np.newaxis, :] - features[:25000][np.newaxis, :, :], axis = 2),\n",
    "           fmt = '%d'\n",
    "          )"
   ]
  },
  {
   "cell_type": "code",
   "execution_count": null,
   "id": "79cb806b",
   "metadata": {},
   "outputs": [],
   "source": [
    "np.linalg.norm(features[:, np.newaxis, :] - features[np.newaxis, :, :], axis = 2)"
   ]
  },
  {
   "cell_type": "code",
   "execution_count": null,
   "id": "b4c14a6e",
   "metadata": {},
   "outputs": [],
   "source": [
    "len(train_data.bag_id.unique())"
   ]
  },
  {
   "cell_type": "code",
   "execution_count": null,
   "id": "ce453405",
   "metadata": {},
   "outputs": [],
   "source": [
    "for i in trange(50000*49999//2):\n",
    "    i + 1\n",
    "print(\"done\")"
   ]
  },
  {
   "cell_type": "code",
   "execution_count": null,
   "id": "c7d7aa66",
   "metadata": {},
   "outputs": [],
   "source": []
  }
 ],
 "metadata": {
  "kernelspec": {
   "display_name": "Python 3 (ipykernel)",
   "language": "python",
   "name": "python3"
  },
  "language_info": {
   "codemirror_mode": {
    "name": "ipython",
    "version": 3
   },
   "file_extension": ".py",
   "mimetype": "text/x-python",
   "name": "python",
   "nbconvert_exporter": "python",
   "pygments_lexer": "ipython3",
   "version": "3.10.1"
  }
 },
 "nbformat": 4,
 "nbformat_minor": 5
}
