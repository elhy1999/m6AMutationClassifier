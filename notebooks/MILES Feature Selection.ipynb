{
 "cells": [
  {
   "cell_type": "code",
   "execution_count": 1,
   "id": "b00fd6b3",
   "metadata": {},
   "outputs": [],
   "source": [
    "import pandas as pd\n",
    "import numpy as np\n",
    "import matplotlib.pyplot as plt\n",
    "from tqdm import tqdm, trange\n",
    "import sklearn as skl\n",
    "\n",
    "pd.set_option('display.float_format', lambda x: '%.3f' % x)\n",
    "\n",
    "DATA_PATH = \"../data/curated/dataset_scaled.csv\"\n",
    "BAG_META_PATH = \"../data/raw/bag_meta.csv\""
   ]
  },
  {
   "cell_type": "code",
   "execution_count": 2,
   "id": "6e271ffa",
   "metadata": {},
   "outputs": [],
   "source": [
    "data = pd.read_csv(DATA_PATH).iloc[:, 1:] # exclude the first column as it is the index"
   ]
  },
  {
   "cell_type": "markdown",
   "id": "b55cb433",
   "metadata": {},
   "source": [
    "# Take 80% of positive labels, and an equal number of negative labels\n",
    "There are 499574 instances and 5475 bags with label 1\n",
    "\n",
    "Edit: Due to computational complexity, I downsampled 20051 instances from positive and negative bags (around 50/50 proportion)"
   ]
  },
  {
   "cell_type": "code",
   "execution_count": 3,
   "id": "d638c6f2",
   "metadata": {},
   "outputs": [],
   "source": [
    "bag_data = pd.read_csv(BAG_META_PATH).iloc[:, 1:] # exclude the first column as it is the index"
   ]
  },
  {
   "cell_type": "code",
   "execution_count": 4,
   "id": "6d8c82be",
   "metadata": {},
   "outputs": [
    {
     "data": {
      "text/html": [
       "<div>\n",
       "<style scoped>\n",
       "    .dataframe tbody tr th:only-of-type {\n",
       "        vertical-align: middle;\n",
       "    }\n",
       "\n",
       "    .dataframe tbody tr th {\n",
       "        vertical-align: top;\n",
       "    }\n",
       "\n",
       "    .dataframe thead th {\n",
       "        text-align: right;\n",
       "    }\n",
       "</style>\n",
       "<table border=\"1\" class=\"dataframe\">\n",
       "  <thead>\n",
       "    <tr style=\"text-align: right;\">\n",
       "      <th></th>\n",
       "      <th>bag_id</th>\n",
       "      <th>label</th>\n",
       "      <th>left_dwell</th>\n",
       "      <th>left_std</th>\n",
       "      <th>left_mean</th>\n",
       "      <th>mid_dwell</th>\n",
       "      <th>mid_std</th>\n",
       "      <th>mid_mean</th>\n",
       "      <th>right_dwell</th>\n",
       "      <th>right_std</th>\n",
       "      <th>right_mean</th>\n",
       "    </tr>\n",
       "  </thead>\n",
       "  <tbody>\n",
       "    <tr>\n",
       "      <th>0</th>\n",
       "      <td>0</td>\n",
       "      <td>0</td>\n",
       "      <td>0.015</td>\n",
       "      <td>0.008</td>\n",
       "      <td>0.173</td>\n",
       "      <td>0.020</td>\n",
       "      <td>0.009</td>\n",
       "      <td>0.293</td>\n",
       "      <td>0.010</td>\n",
       "      <td>0.004</td>\n",
       "      <td>0.379</td>\n",
       "    </tr>\n",
       "    <tr>\n",
       "      <th>1</th>\n",
       "      <td>0</td>\n",
       "      <td>0</td>\n",
       "      <td>0.042</td>\n",
       "      <td>0.015</td>\n",
       "      <td>0.179</td>\n",
       "      <td>0.085</td>\n",
       "      <td>0.011</td>\n",
       "      <td>0.269</td>\n",
       "      <td>0.059</td>\n",
       "      <td>0.009</td>\n",
       "      <td>0.389</td>\n",
       "    </tr>\n",
       "    <tr>\n",
       "      <th>2</th>\n",
       "      <td>0</td>\n",
       "      <td>0</td>\n",
       "      <td>0.016</td>\n",
       "      <td>0.009</td>\n",
       "      <td>0.153</td>\n",
       "      <td>0.071</td>\n",
       "      <td>0.011</td>\n",
       "      <td>0.264</td>\n",
       "      <td>0.090</td>\n",
       "      <td>0.011</td>\n",
       "      <td>0.393</td>\n",
       "    </tr>\n",
       "    <tr>\n",
       "      <th>3</th>\n",
       "      <td>0</td>\n",
       "      <td>0</td>\n",
       "      <td>0.045</td>\n",
       "      <td>0.012</td>\n",
       "      <td>0.187</td>\n",
       "      <td>0.049</td>\n",
       "      <td>0.011</td>\n",
       "      <td>0.254</td>\n",
       "      <td>0.016</td>\n",
       "      <td>0.008</td>\n",
       "      <td>0.382</td>\n",
       "    </tr>\n",
       "    <tr>\n",
       "      <th>4</th>\n",
       "      <td>0</td>\n",
       "      <td>0</td>\n",
       "      <td>0.098</td>\n",
       "      <td>0.011</td>\n",
       "      <td>0.145</td>\n",
       "      <td>0.040</td>\n",
       "      <td>0.011</td>\n",
       "      <td>0.279</td>\n",
       "      <td>0.100</td>\n",
       "      <td>0.010</td>\n",
       "      <td>0.389</td>\n",
       "    </tr>\n",
       "    <tr>\n",
       "      <th>...</th>\n",
       "      <td>...</td>\n",
       "      <td>...</td>\n",
       "      <td>...</td>\n",
       "      <td>...</td>\n",
       "      <td>...</td>\n",
       "      <td>...</td>\n",
       "      <td>...</td>\n",
       "      <td>...</td>\n",
       "      <td>...</td>\n",
       "      <td>...</td>\n",
       "      <td>...</td>\n",
       "    </tr>\n",
       "    <tr>\n",
       "      <th>13656</th>\n",
       "      <td>2776</td>\n",
       "      <td>1</td>\n",
       "      <td>0.056</td>\n",
       "      <td>0.029</td>\n",
       "      <td>0.361</td>\n",
       "      <td>0.039</td>\n",
       "      <td>0.032</td>\n",
       "      <td>0.715</td>\n",
       "      <td>0.125</td>\n",
       "      <td>0.029</td>\n",
       "      <td>0.398</td>\n",
       "    </tr>\n",
       "    <tr>\n",
       "      <th>13657</th>\n",
       "      <td>2776</td>\n",
       "      <td>1</td>\n",
       "      <td>0.020</td>\n",
       "      <td>0.018</td>\n",
       "      <td>0.424</td>\n",
       "      <td>0.037</td>\n",
       "      <td>0.010</td>\n",
       "      <td>0.578</td>\n",
       "      <td>0.087</td>\n",
       "      <td>0.012</td>\n",
       "      <td>0.343</td>\n",
       "    </tr>\n",
       "    <tr>\n",
       "      <th>13658</th>\n",
       "      <td>2776</td>\n",
       "      <td>1</td>\n",
       "      <td>0.053</td>\n",
       "      <td>0.024</td>\n",
       "      <td>0.361</td>\n",
       "      <td>0.053</td>\n",
       "      <td>0.018</td>\n",
       "      <td>0.653</td>\n",
       "      <td>0.072</td>\n",
       "      <td>0.012</td>\n",
       "      <td>0.350</td>\n",
       "    </tr>\n",
       "    <tr>\n",
       "      <th>13659</th>\n",
       "      <td>2776</td>\n",
       "      <td>1</td>\n",
       "      <td>0.019</td>\n",
       "      <td>0.045</td>\n",
       "      <td>0.524</td>\n",
       "      <td>0.023</td>\n",
       "      <td>0.030</td>\n",
       "      <td>0.653</td>\n",
       "      <td>0.030</td>\n",
       "      <td>0.010</td>\n",
       "      <td>0.359</td>\n",
       "    </tr>\n",
       "    <tr>\n",
       "      <th>13660</th>\n",
       "      <td>2776</td>\n",
       "      <td>1</td>\n",
       "      <td>0.011</td>\n",
       "      <td>0.035</td>\n",
       "      <td>0.461</td>\n",
       "      <td>0.106</td>\n",
       "      <td>0.028</td>\n",
       "      <td>0.677</td>\n",
       "      <td>0.046</td>\n",
       "      <td>0.007</td>\n",
       "      <td>0.366</td>\n",
       "    </tr>\n",
       "  </tbody>\n",
       "</table>\n",
       "<p>13661 rows × 11 columns</p>\n",
       "</div>"
      ],
      "text/plain": [
       "       bag_id  label  left_dwell  left_std  left_mean  mid_dwell  mid_std  \\\n",
       "0           0      0       0.015     0.008      0.173      0.020    0.009   \n",
       "1           0      0       0.042     0.015      0.179      0.085    0.011   \n",
       "2           0      0       0.016     0.009      0.153      0.071    0.011   \n",
       "3           0      0       0.045     0.012      0.187      0.049    0.011   \n",
       "4           0      0       0.098     0.011      0.145      0.040    0.011   \n",
       "...       ...    ...         ...       ...        ...        ...      ...   \n",
       "13656    2776      1       0.056     0.029      0.361      0.039    0.032   \n",
       "13657    2776      1       0.020     0.018      0.424      0.037    0.010   \n",
       "13658    2776      1       0.053     0.024      0.361      0.053    0.018   \n",
       "13659    2776      1       0.019     0.045      0.524      0.023    0.030   \n",
       "13660    2776      1       0.011     0.035      0.461      0.106    0.028   \n",
       "\n",
       "       mid_mean  right_dwell  right_std  right_mean  \n",
       "0         0.293        0.010      0.004       0.379  \n",
       "1         0.269        0.059      0.009       0.389  \n",
       "2         0.264        0.090      0.011       0.393  \n",
       "3         0.254        0.016      0.008       0.382  \n",
       "4         0.279        0.100      0.010       0.389  \n",
       "...         ...          ...        ...         ...  \n",
       "13656     0.715        0.125      0.029       0.398  \n",
       "13657     0.578        0.087      0.012       0.343  \n",
       "13658     0.653        0.072      0.012       0.350  \n",
       "13659     0.653        0.030      0.010       0.359  \n",
       "13660     0.677        0.046      0.007       0.366  \n",
       "\n",
       "[13661 rows x 11 columns]"
      ]
     },
     "execution_count": 4,
     "metadata": {},
     "output_type": "execute_result"
    }
   ],
   "source": [
    "train_data = data.loc[data.bag_id.isin(list(bag_data.loc[bag_data.label == 1].bag_id)[:120])]\n",
    "train_data = pd.concat([train_data, data.loc[data.bag_id.isin(list(bag_data.loc[bag_data.label == 0].bag_id)[:130])]], axis = 0)\n",
    "train_data = train_data.sort_values(by=\"bag_id\")\n",
    "train_data = train_data.reset_index(drop=True)\n",
    "train_data"
   ]
  },
  {
   "cell_type": "code",
   "execution_count": 5,
   "id": "24442301",
   "metadata": {},
   "outputs": [],
   "source": [
    "features = train_data.iloc[:,2:].values.astype(np.float32)\n",
    "distances = np.linalg.norm(features[:, np.newaxis, :] - features[np.newaxis, :, :], axis = 2)\n",
    "np.savetxt(\"./../data/curated/distances_10000.txt\", distances)\n",
    "\n",
    "# distances = np.loadtxt(\"./../data/curated/distances_10000.txt\")"
   ]
  },
  {
   "cell_type": "code",
   "execution_count": 6,
   "id": "ac490399",
   "metadata": {},
   "outputs": [],
   "source": [
    "N_BAGS = len(train_data.bag_id.unique())\n",
    "N_INSTANCES = train_data.shape[0]"
   ]
  },
  {
   "cell_type": "code",
   "execution_count": 7,
   "id": "0f51af1f",
   "metadata": {},
   "outputs": [
    {
     "name": "stderr",
     "output_type": "stream",
     "text": [
      "250it [16:28,  3.95s/it]\n"
     ]
    }
   ],
   "source": [
    "bag_features = np.ones((N_BAGS, N_INSTANCES)) * 3\n",
    "for i, bag_id in tqdm(enumerate(list(train_data.bag_id.unique()))):\n",
    "    for j in range(train_data.shape[0]):\n",
    "        bag = train_data.loc[train_data.bag_id == bag_id]\n",
    "        for k in bag.index:\n",
    "            bag_features[i][j] = min(bag_features[i][j], distances[k][j])\n",
    "np.savetxt(\"./../data/curated/bag_features.txt\", bag_features)\n",
    "\n",
    "# bag_features = np.loadtxt(\"./../data/curated/bag_features.txt\")\n",
    "# print(bag_features.shape)\n",
    "# print(bag_features)"
   ]
  },
  {
   "cell_type": "markdown",
   "id": "68fa84c6",
   "metadata": {},
   "source": [
    "# Feature Selection with LinearSVC\n",
    "Documentation:\n",
    "\n",
    "* https://scikit-learn.org/stable/modules/generated/sklearn.svm.LinearSVC.html\n",
    "* https://scikit-learn.org/stable/modules/feature_selection.html"
   ]
  },
  {
   "cell_type": "code",
   "execution_count": 8,
   "id": "275273aa",
   "metadata": {},
   "outputs": [],
   "source": [
    "from sklearn.svm import LinearSVC\n",
    "from sklearn.feature_selection import SelectFromModel"
   ]
  },
  {
   "cell_type": "code",
   "execution_count": 9,
   "id": "797d4450",
   "metadata": {},
   "outputs": [],
   "source": [
    "# Getting the training labels for each bag\n",
    "Y = train_data.loc[:, [\"bag_id\", \"label\"]].value_counts(ascending=True).reset_index().sort_values(by=\"bag_id\").label"
   ]
  },
  {
   "cell_type": "code",
   "execution_count": 33,
   "id": "094ae20d",
   "metadata": {},
   "outputs": [
    {
     "name": "stdout",
     "output_type": "stream",
     "text": [
      "(250, 13)\n"
     ]
    },
    {
     "data": {
      "text/plain": [
       "array([[0.23526356, 0.28061926, 0.39882559, ..., 0.42617714, 0.39967412,\n",
       "        0.45504135],\n",
       "       [0.10113101, 0.14165424, 0.22722259, ..., 0.39267564, 0.28088722,\n",
       "        0.37729684],\n",
       "       [0.24330905, 0.32073817, 0.40636903, ..., 0.45735732, 0.43132034,\n",
       "        0.49946529],\n",
       "       ...,\n",
       "       [0.2427081 , 0.22664119, 0.19587411, ..., 0.51954061, 0.33173871,\n",
       "        0.44068825],\n",
       "       [0.26835781, 0.23929757, 0.05008517, ..., 0.30608976, 0.11694902,\n",
       "        0.21721114],\n",
       "       [0.38632751, 0.3529903 , 0.15921737, ..., 0.14272821, 0.08474394,\n",
       "        0.09589792]])"
      ]
     },
     "execution_count": 33,
     "metadata": {},
     "output_type": "execute_result"
    }
   ],
   "source": [
    "# We use the dual=False here because the dual=True has not been implemented in this package for L1 penalties\n",
    "np.random.seed(40)\n",
    "penalized_svm = LinearSVC(C=0.5, penalty=\"l1\", dual=False, max_iter = 10000).fit(bag_features, Y)\n",
    "model = SelectFromModel(estimator = penalized_svm, prefit=True)\n",
    "selected_features = model.transform(bag_features)\n",
    "print(selected_features.shape)\n",
    "selected_features"
   ]
  },
  {
   "cell_type": "code",
   "execution_count": 34,
   "id": "eb21bbd0",
   "metadata": {},
   "outputs": [
    {
     "name": "stdout",
     "output_type": "stream",
     "text": [
      "New # Features: 13\n",
      "Was: 13661\n"
     ]
    }
   ],
   "source": [
    "print(\"New # Features:\", selected_features.shape[1])\n",
    "print(\"Was:\", bag_features.shape[1])"
   ]
  },
  {
   "cell_type": "code",
   "execution_count": 35,
   "id": "1d62a7ea",
   "metadata": {},
   "outputs": [],
   "source": [
    "feature_indices = []\n",
    "for j in range(selected_features.shape[1]):\n",
    "    for i in range(bag_features.shape[1]):\n",
    "        p = bag_features[:,i]\n",
    "        if np.linalg.norm(p - selected_features[:,j]) <= 0.00001:\n",
    "            feature_indices.append(i)\n",
    "            break"
   ]
  },
  {
   "cell_type": "code",
   "execution_count": 36,
   "id": "b23d1976",
   "metadata": {},
   "outputs": [
    {
     "data": {
      "text/html": [
       "<div>\n",
       "<style scoped>\n",
       "    .dataframe tbody tr th:only-of-type {\n",
       "        vertical-align: middle;\n",
       "    }\n",
       "\n",
       "    .dataframe tbody tr th {\n",
       "        vertical-align: top;\n",
       "    }\n",
       "\n",
       "    .dataframe thead th {\n",
       "        text-align: right;\n",
       "    }\n",
       "</style>\n",
       "<table border=\"1\" class=\"dataframe\">\n",
       "  <thead>\n",
       "    <tr style=\"text-align: right;\">\n",
       "      <th></th>\n",
       "      <th>bag_id</th>\n",
       "      <th>label</th>\n",
       "      <th>left_dwell</th>\n",
       "      <th>left_std</th>\n",
       "      <th>left_mean</th>\n",
       "      <th>mid_dwell</th>\n",
       "      <th>mid_std</th>\n",
       "      <th>mid_mean</th>\n",
       "      <th>right_dwell</th>\n",
       "      <th>right_std</th>\n",
       "      <th>right_mean</th>\n",
       "    </tr>\n",
       "  </thead>\n",
       "  <tbody>\n",
       "    <tr>\n",
       "      <th>2006</th>\n",
       "      <td>50</td>\n",
       "      <td>0</td>\n",
       "      <td>0.098</td>\n",
       "      <td>0.011</td>\n",
       "      <td>0.424</td>\n",
       "      <td>0.112</td>\n",
       "      <td>0.015</td>\n",
       "      <td>0.213</td>\n",
       "      <td>0.047</td>\n",
       "      <td>0.017</td>\n",
       "      <td>0.395</td>\n",
       "    </tr>\n",
       "    <tr>\n",
       "      <th>4551</th>\n",
       "      <td>93</td>\n",
       "      <td>0</td>\n",
       "      <td>0.060</td>\n",
       "      <td>0.032</td>\n",
       "      <td>0.486</td>\n",
       "      <td>0.216</td>\n",
       "      <td>0.012</td>\n",
       "      <td>0.252</td>\n",
       "      <td>0.075</td>\n",
       "      <td>0.012</td>\n",
       "      <td>0.323</td>\n",
       "    </tr>\n",
       "    <tr>\n",
       "      <th>6610</th>\n",
       "      <td>212</td>\n",
       "      <td>1</td>\n",
       "      <td>0.085</td>\n",
       "      <td>0.024</td>\n",
       "      <td>0.549</td>\n",
       "      <td>0.012</td>\n",
       "      <td>0.032</td>\n",
       "      <td>0.442</td>\n",
       "      <td>0.066</td>\n",
       "      <td>0.020</td>\n",
       "      <td>0.288</td>\n",
       "    </tr>\n",
       "    <tr>\n",
       "      <th>6734</th>\n",
       "      <td>302</td>\n",
       "      <td>1</td>\n",
       "      <td>0.005</td>\n",
       "      <td>0.034</td>\n",
       "      <td>0.662</td>\n",
       "      <td>0.005</td>\n",
       "      <td>0.007</td>\n",
       "      <td>0.330</td>\n",
       "      <td>0.056</td>\n",
       "      <td>0.010</td>\n",
       "      <td>0.339</td>\n",
       "    </tr>\n",
       "    <tr>\n",
       "      <th>8442</th>\n",
       "      <td>602</td>\n",
       "      <td>1</td>\n",
       "      <td>0.092</td>\n",
       "      <td>0.032</td>\n",
       "      <td>0.561</td>\n",
       "      <td>0.009</td>\n",
       "      <td>0.018</td>\n",
       "      <td>0.467</td>\n",
       "      <td>0.106</td>\n",
       "      <td>0.022</td>\n",
       "      <td>0.282</td>\n",
       "    </tr>\n",
       "    <tr>\n",
       "      <th>9231</th>\n",
       "      <td>787</td>\n",
       "      <td>1</td>\n",
       "      <td>0.070</td>\n",
       "      <td>0.014</td>\n",
       "      <td>0.499</td>\n",
       "      <td>0.005</td>\n",
       "      <td>0.017</td>\n",
       "      <td>0.429</td>\n",
       "      <td>0.046</td>\n",
       "      <td>0.032</td>\n",
       "      <td>0.209</td>\n",
       "    </tr>\n",
       "    <tr>\n",
       "      <th>10111</th>\n",
       "      <td>1004</td>\n",
       "      <td>1</td>\n",
       "      <td>0.062</td>\n",
       "      <td>0.020</td>\n",
       "      <td>0.561</td>\n",
       "      <td>0.005</td>\n",
       "      <td>0.016</td>\n",
       "      <td>0.454</td>\n",
       "      <td>0.015</td>\n",
       "      <td>0.009</td>\n",
       "      <td>0.294</td>\n",
       "    </tr>\n",
       "    <tr>\n",
       "      <th>10215</th>\n",
       "      <td>1096</td>\n",
       "      <td>1</td>\n",
       "      <td>0.106</td>\n",
       "      <td>0.030</td>\n",
       "      <td>0.536</td>\n",
       "      <td>0.027</td>\n",
       "      <td>0.034</td>\n",
       "      <td>0.467</td>\n",
       "      <td>0.098</td>\n",
       "      <td>0.015</td>\n",
       "      <td>0.301</td>\n",
       "    </tr>\n",
       "    <tr>\n",
       "      <th>10367</th>\n",
       "      <td>1148</td>\n",
       "      <td>1</td>\n",
       "      <td>0.022</td>\n",
       "      <td>0.033</td>\n",
       "      <td>0.624</td>\n",
       "      <td>0.015</td>\n",
       "      <td>0.015</td>\n",
       "      <td>0.342</td>\n",
       "      <td>0.311</td>\n",
       "      <td>0.013</td>\n",
       "      <td>0.390</td>\n",
       "    </tr>\n",
       "    <tr>\n",
       "      <th>10778</th>\n",
       "      <td>1265</td>\n",
       "      <td>1</td>\n",
       "      <td>0.048</td>\n",
       "      <td>0.018</td>\n",
       "      <td>0.624</td>\n",
       "      <td>0.000</td>\n",
       "      <td>0.071</td>\n",
       "      <td>0.516</td>\n",
       "      <td>0.298</td>\n",
       "      <td>0.018</td>\n",
       "      <td>0.339</td>\n",
       "    </tr>\n",
       "    <tr>\n",
       "      <th>12018</th>\n",
       "      <td>2302</td>\n",
       "      <td>1</td>\n",
       "      <td>0.171</td>\n",
       "      <td>0.056</td>\n",
       "      <td>0.289</td>\n",
       "      <td>0.054</td>\n",
       "      <td>0.018</td>\n",
       "      <td>0.690</td>\n",
       "      <td>0.048</td>\n",
       "      <td>0.017</td>\n",
       "      <td>0.411</td>\n",
       "    </tr>\n",
       "    <tr>\n",
       "      <th>12827</th>\n",
       "      <td>2604</td>\n",
       "      <td>1</td>\n",
       "      <td>0.042</td>\n",
       "      <td>0.012</td>\n",
       "      <td>0.461</td>\n",
       "      <td>0.044</td>\n",
       "      <td>0.021</td>\n",
       "      <td>0.566</td>\n",
       "      <td>0.177</td>\n",
       "      <td>0.009</td>\n",
       "      <td>0.346</td>\n",
       "    </tr>\n",
       "    <tr>\n",
       "      <th>13269</th>\n",
       "      <td>2747</td>\n",
       "      <td>1</td>\n",
       "      <td>0.013</td>\n",
       "      <td>0.025</td>\n",
       "      <td>0.424</td>\n",
       "      <td>0.032</td>\n",
       "      <td>0.023</td>\n",
       "      <td>0.677</td>\n",
       "      <td>0.190</td>\n",
       "      <td>0.009</td>\n",
       "      <td>0.377</td>\n",
       "    </tr>\n",
       "  </tbody>\n",
       "</table>\n",
       "</div>"
      ],
      "text/plain": [
       "       bag_id  label  left_dwell  left_std  left_mean  mid_dwell  mid_std  \\\n",
       "2006       50      0       0.098     0.011      0.424      0.112    0.015   \n",
       "4551       93      0       0.060     0.032      0.486      0.216    0.012   \n",
       "6610      212      1       0.085     0.024      0.549      0.012    0.032   \n",
       "6734      302      1       0.005     0.034      0.662      0.005    0.007   \n",
       "8442      602      1       0.092     0.032      0.561      0.009    0.018   \n",
       "9231      787      1       0.070     0.014      0.499      0.005    0.017   \n",
       "10111    1004      1       0.062     0.020      0.561      0.005    0.016   \n",
       "10215    1096      1       0.106     0.030      0.536      0.027    0.034   \n",
       "10367    1148      1       0.022     0.033      0.624      0.015    0.015   \n",
       "10778    1265      1       0.048     0.018      0.624      0.000    0.071   \n",
       "12018    2302      1       0.171     0.056      0.289      0.054    0.018   \n",
       "12827    2604      1       0.042     0.012      0.461      0.044    0.021   \n",
       "13269    2747      1       0.013     0.025      0.424      0.032    0.023   \n",
       "\n",
       "       mid_mean  right_dwell  right_std  right_mean  \n",
       "2006      0.213        0.047      0.017       0.395  \n",
       "4551      0.252        0.075      0.012       0.323  \n",
       "6610      0.442        0.066      0.020       0.288  \n",
       "6734      0.330        0.056      0.010       0.339  \n",
       "8442      0.467        0.106      0.022       0.282  \n",
       "9231      0.429        0.046      0.032       0.209  \n",
       "10111     0.454        0.015      0.009       0.294  \n",
       "10215     0.467        0.098      0.015       0.301  \n",
       "10367     0.342        0.311      0.013       0.390  \n",
       "10778     0.516        0.298      0.018       0.339  \n",
       "12018     0.690        0.048      0.017       0.411  \n",
       "12827     0.566        0.177      0.009       0.346  \n",
       "13269     0.677        0.190      0.009       0.377  "
      ]
     },
     "execution_count": 36,
     "metadata": {},
     "output_type": "execute_result"
    }
   ],
   "source": [
    "max_diverse_density_points = train_data.iloc[feature_indices, :]\n",
    "max_diverse_density_points"
   ]
  },
  {
   "cell_type": "code",
   "execution_count": 14,
   "id": "4f0fe619",
   "metadata": {},
   "outputs": [],
   "source": [
    "max_diverse_density_points.to_csv(\"./../data/curated/max_diverse_density_points.csv\")"
   ]
  },
  {
   "cell_type": "code",
   "execution_count": 44,
   "id": "b09169cf",
   "metadata": {},
   "outputs": [
    {
     "data": {
      "text/plain": [
       "184"
      ]
     },
     "execution_count": 44,
     "metadata": {},
     "output_type": "execute_result"
    }
   ],
   "source": [
    "np.sum(penalized_svm.predict(bag_features) == Y)"
   ]
  },
  {
   "cell_type": "code",
   "execution_count": 45,
   "id": "7c8889cd",
   "metadata": {},
   "outputs": [
    {
     "data": {
      "text/plain": [
       "250"
      ]
     },
     "execution_count": 45,
     "metadata": {},
     "output_type": "execute_result"
    }
   ],
   "source": [
    "len(Y)"
   ]
  },
  {
   "cell_type": "code",
   "execution_count": null,
   "id": "c9d62718",
   "metadata": {},
   "outputs": [],
   "source": []
  },
  {
   "cell_type": "markdown",
   "id": "751549ee",
   "metadata": {},
   "source": [
    "# Replicating Code from Original Paper\n",
    "Source: https://github.com/johnvorsten/MILES/blob/57656bb29ccfec644351e18a316c03627769f895/src/tests/l1_svm_demo.py#L88"
   ]
  },
  {
   "cell_type": "code",
   "execution_count": 17,
   "id": "0d8ba8f7",
   "metadata": {},
   "outputs": [],
   "source": [
    "# # Globals\n",
    "# N_POSITIVE_BAGS = 100\n",
    "# N_NEGATIVE_BAGS = 25\n",
    "# INSTANCE_SPACE = 2\n",
    "# BAG_SIZE = 9\n",
    "# SIGMA_EMBEDDING = 3  # Regularizer, Embedding\n",
    "# GAMMA_SVC = 'scale'\n",
    "# PENALTY = 'l1'  # L1 loss penalization\n",
    "# LOSS = 'squared_hinge'  # Loss function\n",
    "# C = 1.0  # SVM regularization, inversely proportional"
   ]
  },
  {
   "cell_type": "code",
   "execution_count": 18,
   "id": "10e1af5e",
   "metadata": {},
   "outputs": [],
   "source": [
    "# # Define SVM\n",
    "# svmc_l1 = skl.svm.LinearSVC(\n",
    "#     loss=LOSS, penalty=PENALTY, C=C, dual=False, max_iter=5000)\n",
    "\n",
    "# # SVC Using LibSVM uses the squared l2 loss\n",
    "# svmc = skl.svm.SVC(kernel='rbf', gamma=GAMMA_SVC, C=C)\n",
    "\n",
    "# # Define grid search parameters\n",
    "# params_l1svc = {'C': [0.5, 1, 2],\n",
    "#                 }\n",
    "# params_svc = {'C': [0.5, 1, 2],\n",
    "#               'kernel': ['rbf', 'poly']}\n",
    "\n",
    "# # Grid search\n",
    "# svmc_l1_gs = skl.model_selection.GridSearchCV(estimator=svmc_l1,\n",
    "#                                               param_grid=params_l1svc,\n",
    "#                                               scoring=['accuracy',\n",
    "#                                                        'precision', 'recall'],\n",
    "#                                               refit=False,\n",
    "#                                               n_jobs=6,\n",
    "#                                               cv=None,  # Default 5-fold validation\n",
    "#                                               )\n",
    "\n",
    "\n",
    "# svmc_gs = skl.model_selection.GridSearchCV(estimator=svmc,\n",
    "#                                            param_grid=params_svc,\n",
    "#                                            scoring=['accuracy',\n",
    "#                                                     'precision', 'recall'],\n",
    "#                                            n_jobs=6,\n",
    "#                                            refit=False,\n",
    "#                                            cv=None,  # Default 5-fold validation\n",
    "#                                            )"
   ]
  },
  {
   "cell_type": "code",
   "execution_count": 19,
   "id": "02835bcb",
   "metadata": {},
   "outputs": [],
   "source": [
    "# # Estimators expect (instance,features). embedded bags are encoded where\n",
    "# # features are along axis=1\n",
    "# svmc_l1_gs.fit(bag_features, Y)\n",
    "# svmc_gs.fit(bag_features, Y)"
   ]
  },
  {
   "cell_type": "code",
   "execution_count": 20,
   "id": "23752a08",
   "metadata": {},
   "outputs": [],
   "source": [
    "# # Print results\n",
    "# print(\"L1 SVM Results:\")\n",
    "# print(svmc_l1_gs.cv_results_)\n",
    "# print()\n",
    "# print(\"rbf, polynomial SVM Results: \")\n",
    "# print(svmc_gs.cv_results_)"
   ]
  },
  {
   "cell_type": "markdown",
   "id": "0de22983",
   "metadata": {},
   "source": [
    "# Archived Code"
   ]
  },
  {
   "cell_type": "code",
   "execution_count": 21,
   "id": "21843ddc",
   "metadata": {},
   "outputs": [],
   "source": [
    "# def euclidean(p1, p2):\n",
    "#     \"\"\"Takes in two numpy vectors p1 and p2, and returns the euclidean distance between them\"\"\"\n",
    "#     return np.linalg.norm(p1 - p2)"
   ]
  },
  {
   "cell_type": "code",
   "execution_count": 22,
   "id": "e0f4f136",
   "metadata": {},
   "outputs": [],
   "source": [
    "# def bag_instance_dist(b_ind, i_ind):\n",
    "#     bag = train_data.loc[train_data.bag_id == b_ind]\n",
    "#     label = bag.iloc[0, 1] #Y\n",
    "#     features = bag.iloc[:,2:].values #X\n",
    "#     instance = train_data.iloc[i_ind, 2:].values\n",
    "#     distances = np.linalg.norm(features - instance, axis=1)\n",
    "#     return np.min(distances)"
   ]
  },
  {
   "cell_type": "code",
   "execution_count": 23,
   "id": "3e431fe2",
   "metadata": {},
   "outputs": [],
   "source": [
    "# N_BAGS = len(train_data.bag_id.unique())\n",
    "# N_INSTANCES = train_data.shape[0]\n",
    "# distances = np.ones((N_BAGS, N_INSTANCES)) * 3 # With 9 normalized features, the maximum (Euclidean) distance between two points is 3"
   ]
  },
  {
   "cell_type": "code",
   "execution_count": 24,
   "id": "aa64b185",
   "metadata": {},
   "outputs": [],
   "source": [
    "# for b, b_ind in (enumerate(list(train_data.bag_id.unique()))):\n",
    "#     print(\"Starting iteration\", b+1, \"out of\", len(train_data.bag_id.unique()))\n",
    "#     for i_ind in trange(train_data.shape[0]):\n",
    "#         distance = bag_instance_dist(b_ind, i_ind)\n",
    "#         distances[b, i_ind] = distance"
   ]
  },
  {
   "cell_type": "code",
   "execution_count": 25,
   "id": "75b9edfd",
   "metadata": {},
   "outputs": [],
   "source": [
    "# distances = {}\n",
    "# for i in trange(len(features)):\n",
    "#     for j in range(i, len(features)):\n",
    "#         distances[(i, j)] = np.linalg.norm(features[i] - features[j])"
   ]
  },
  {
   "cell_type": "code",
   "execution_count": 26,
   "id": "daf0d9ea",
   "metadata": {},
   "outputs": [],
   "source": [
    "# features[:25000]"
   ]
  },
  {
   "cell_type": "code",
   "execution_count": 27,
   "id": "caffb382",
   "metadata": {},
   "outputs": [],
   "source": [
    "# np.linalg.norm(_[:, np.newaxis, :] - _[np.newaxis, :, :], axis = 2)"
   ]
  },
  {
   "cell_type": "code",
   "execution_count": 28,
   "id": "adebac1b",
   "metadata": {},
   "outputs": [],
   "source": [
    "# np.savetxt('250000_250000.txt', _, fmt='%d')"
   ]
  },
  {
   "cell_type": "code",
   "execution_count": 29,
   "id": "bf1aeecb",
   "metadata": {},
   "outputs": [],
   "source": [
    "# temp = np.linalg.norm(features[25000:50000][:, np.newaxis, :] - features[25000:50000][np.newaxis, :, :], axis = 2)\n",
    "# np.savetxt('25000-50000_25000-50000.txt',\n",
    "#            temp,\n",
    "#            fmt = '%d'\n",
    "#           )\n",
    "# del temp"
   ]
  },
  {
   "cell_type": "code",
   "execution_count": 30,
   "id": "3259a830",
   "metadata": {},
   "outputs": [],
   "source": [
    "# temp = np.linalg.norm(features[50000:75000][:, np.newaxis, :] - features[50000:75000][np.newaxis, :, :], axis = 2)\n",
    "# np.savetxt('50000-75000_50000-75000.txt',\n",
    "#            temp,\n",
    "#            fmt = '%d'\n",
    "#           )\n",
    "# del temp"
   ]
  },
  {
   "cell_type": "code",
   "execution_count": 31,
   "id": "6eea4d1e",
   "metadata": {},
   "outputs": [],
   "source": [
    "# temp = np.linalg.norm(features[75000:100000][:, np.newaxis, :] - features[75000:100000][np.newaxis, :, :], axis = 2)\n",
    "# np.savetxt('75000-100000_75000-100000.txt',\n",
    "#            temp,\n",
    "#            fmt = '%d'\n",
    "#           )\n",
    "# del temp"
   ]
  },
  {
   "cell_type": "code",
   "execution_count": 32,
   "id": "f2e18927",
   "metadata": {},
   "outputs": [],
   "source": [
    "# np.savetxt('500000_250000.txt',\n",
    "#            np.linalg.norm(features[25000:][:, np.newaxis, :] - features[:25000][np.newaxis, :, :], axis = 2),\n",
    "#            fmt = '%d'\n",
    "#           )"
   ]
  },
  {
   "cell_type": "code",
   "execution_count": null,
   "id": "79cb806b",
   "metadata": {},
   "outputs": [],
   "source": []
  },
  {
   "cell_type": "code",
   "execution_count": null,
   "id": "c7d7aa66",
   "metadata": {},
   "outputs": [],
   "source": []
  }
 ],
 "metadata": {
  "kernelspec": {
   "display_name": "Python 3 (ipykernel)",
   "language": "python",
   "name": "python3"
  },
  "language_info": {
   "codemirror_mode": {
    "name": "ipython",
    "version": 3
   },
   "file_extension": ".py",
   "mimetype": "text/x-python",
   "name": "python",
   "nbconvert_exporter": "python",
   "pygments_lexer": "ipython3",
   "version": "3.10.1"
  }
 },
 "nbformat": 4,
 "nbformat_minor": 5
}
